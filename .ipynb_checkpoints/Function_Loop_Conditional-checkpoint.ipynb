{
 "cells": [
  {
   "cell_type": "markdown",
   "metadata": {},
   "source": [
    "# Function\n",
    "### print ชื่อ XXX นามสกุล YYY\n",
    "### print เกรด วิชา Stat 1 >> AAA"
   ]
  },
  {
   "cell_type": "code",
   "execution_count": 21,
   "metadata": {},
   "outputs": [
    {
     "name": "stdout",
     "output_type": "stream",
     "text": [
      "ชื่อ ภัทรวรรธน์ นามสกุล ใจเที่ยง รหัส 603021866-7\n"
     ]
    }
   ],
   "source": [
    "a = f'ชื่อ ภัทรวรรธน์ นามสกุล ใจเที่ยง รหัส 603021866-7'\n",
    "print(a)"
   ]
  },
  {
   "cell_type": "markdown",
   "metadata": {},
   "source": [
    "### เราทำแบบนี้ได้"
   ]
  },
  {
   "cell_type": "code",
   "execution_count": 22,
   "metadata": {},
   "outputs": [
    {
     "name": "stdout",
     "output_type": "stream",
     "text": [
      "ชื่อ ภัทรวรรธน์ นามสกุล ใจเที่ยง รหัส 603021866-7\n"
     ]
    }
   ],
   "source": [
    "name = 'ภัทรวรรธน์'\n",
    "surname = 'ใจเที่ยง'\n",
    "ID = '603021866-7'\n",
    "\n",
    "b= f'ชื่อ {name} นามสกุล {surname} รหัส {ID}'\n",
    "print(b)"
   ]
  },
  {
   "cell_type": "markdown",
   "metadata": {},
   "source": [
    "## Function template ทำหน้าที่รับ input มาประมวณผล inturn ออกมาเป็น output"
   ]
  },
  {
   "cell_type": "markdown",
   "metadata": {},
   "source": [
    "### def คือการกำหนดฟังก์ชัน"
   ]
  },
  {
   "cell_type": "markdown",
   "metadata": {},
   "source": [
    "```python\n",
    "    def function_name (Input) :\n",
    "        do_something\n",
    "        return Output\n",
    "```"
   ]
  },
  {
   "cell_type": "code",
   "execution_count": 23,
   "metadata": {},
   "outputs": [],
   "source": [
    "def print_line1(name1,surname1,ID1) :\n",
    "    st = f'ชื่อ {name1} นามสกุล {surname1} รหัส {ID1}'\n",
    "    return st"
   ]
  },
  {
   "cell_type": "code",
   "execution_count": 24,
   "metadata": {},
   "outputs": [
    {
     "name": "stdout",
     "output_type": "stream",
     "text": [
      "ชื่อ กาญจนา นามสกุล ประสาคุณ รหัส 603021855-2\n"
     ]
    }
   ],
   "source": [
    "print(print_line1('กาญจนา','ประสาคุณ','603021855-2'))"
   ]
  },
  {
   "cell_type": "code",
   "execution_count": 33,
   "metadata": {},
   "outputs": [],
   "source": [
    "def print_2lines(name1,surname1,ID1,grade) :\n",
    "    st = f'ชื่อ {name1} นามสกุล {surname1} รหัส {ID1}'\n",
    "    print (st)\n",
    "    st2=f'เกรดวิชา Stat1 >>> {grade}'\n",
    "    print(st2)"
   ]
  },
  {
   "cell_type": "code",
   "execution_count": 35,
   "metadata": {},
   "outputs": [
    {
     "name": "stdout",
     "output_type": "stream",
     "text": [
      "ชื่อ นายภัทรวรรธน์ นามสกุล ใจเที่ยง รหัส 603021866-7\n",
      "เกรดวิชา Stat1 >>> B+\n"
     ]
    }
   ],
   "source": [
    "print_2lines('นายภัทรวรรธน์','ใจเที่ยง','603021866-7','B+')"
   ]
  },
  {
   "cell_type": "code",
   "execution_count": 37,
   "metadata": {},
   "outputs": [
    {
     "name": "stdout",
     "output_type": "stream",
     "text": [
      "ชื่อ นายภัทรวรรธน์ นามสกุล ใจเที่ยง รหัส 603021866-7\n",
      "เกรดวิชา Stat1 >>> B+\n",
      "ชื่อ ธนัชชา นามสกุล ขุนทอง รหัส 603020472-3\n",
      "เกรดวิชา Stat1 >>> B+\n",
      "ชื่อ นายโสภิตา นามสกุล แสงขาว รหัส 603021889-5\n",
      "เกรดวิชา Stat1 >>> B\n",
      "ชื่อ กรวิชญ์ นามสกุล ทะรังศรี รหัส 61302088-1\n",
      "เกรดวิชา Stat1 >>> A\n"
     ]
    }
   ],
   "source": [
    "print_2lines('นายภัทรวรรธน์','ใจเที่ยง','603021866-7','B+')\n",
    "print_2lines('ธนัชชา','ขุนทอง','603020472-3','B+')\n",
    "print_2lines('นายโสภิตา','แสงขาว','603021889-5','B')\n",
    "print_2lines('กรวิชญ์','ทะรังศรี','61302088-1','A')"
   ]
  },
  {
   "cell_type": "markdown",
   "metadata": {},
   "source": [
    "## Function without input"
   ]
  },
  {
   "cell_type": "code",
   "execution_count": 52,
   "metadata": {},
   "outputs": [],
   "source": [
    "def two_x_three ():\n",
    "    x = 2*3\n",
    "    return x"
   ]
  },
  {
   "cell_type": "code",
   "execution_count": 53,
   "metadata": {},
   "outputs": [
    {
     "data": {
      "text/plain": [
       "6"
      ]
     },
     "execution_count": 53,
     "metadata": {},
     "output_type": "execute_result"
    }
   ],
   "source": [
    "two_x_three()"
   ]
  },
  {
   "cell_type": "markdown",
   "metadata": {},
   "source": [
    "## Function with default argument"
   ]
  },
  {
   "cell_type": "code",
   "execution_count": 44,
   "metadata": {},
   "outputs": [],
   "source": [
    "def print_2lines_default(name1,surname1,ID1,grade='F') :\n",
    "    st = f'ชื่อ {name1} นามสกุล {surname1} รหัส {ID1}'\n",
    "    print (st)\n",
    "    st2=f'เกรดวิชา Stat1 >>> {grade}'\n",
    "    print(st2)"
   ]
  },
  {
   "cell_type": "code",
   "execution_count": 46,
   "metadata": {},
   "outputs": [
    {
     "name": "stdout",
     "output_type": "stream",
     "text": [
      "ชื่อ นายภัทรวรรธน์ นามสกุล ใจเที่ยง รหัส 603021866-7\n",
      "เกรดวิชา Stat1 >>> F\n"
     ]
    }
   ],
   "source": [
    "print_2lines_default('นายภัทรวรรธน์','ใจเที่ยง','603021866-7')"
   ]
  },
  {
   "cell_type": "code",
   "execution_count": 47,
   "metadata": {},
   "outputs": [
    {
     "name": "stdout",
     "output_type": "stream",
     "text": [
      "ชื่อ นายภัทรวรรธน์ นามสกุล ใจเที่ยง รหัส 603021866-7\n",
      "เกรดวิชา Stat1 >>> A+\n"
     ]
    }
   ],
   "source": [
    "print_2lines_default('นายภัทรวรรธน์','ใจเที่ยง','603021866-7','A+')"
   ]
  },
  {
   "cell_type": "code",
   "execution_count": 49,
   "metadata": {},
   "outputs": [
    {
     "name": "stdout",
     "output_type": "stream",
     "text": [
      "ชื่อ ใจเที่ยง นามสกุล นายภัทรวรรธน์ รหัส 603021866-7\n",
      "เกรดวิชา Stat1 >>> F\n"
     ]
    }
   ],
   "source": [
    "print_2lines_default(surname1 = 'นายภัทรวรรธน์',name1 = 'ใจเที่ยง', ID1 = '603021866-7')"
   ]
  },
  {
   "cell_type": "markdown",
   "metadata": {},
   "source": [
    "# LOOP การวนซ้ำ"
   ]
  },
  {
   "cell_type": "markdown",
   "metadata": {},
   "source": [
    "```python\n",
    "    for each_member in listA :\n",
    "        do_something\n",
    "```"
   ]
  },
  {
   "cell_type": "code",
   "execution_count": 51,
   "metadata": {},
   "outputs": [
    {
     "name": "stdout",
     "output_type": "stream",
     "text": [
      "1\n",
      "2\n",
      "3\n"
     ]
    }
   ],
   "source": [
    "for i in [1,2,3] :\n",
    "    print (i)"
   ]
  },
  {
   "cell_type": "code",
   "execution_count": 55,
   "metadata": {},
   "outputs": [
    {
     "name": "stdout",
     "output_type": "stream",
     "text": [
      "T->/\n",
      "h->/\n",
      "a->/\n",
      "n->/\n",
      "a->/\n",
      "p->/\n",
      "o->/\n",
      "n->/\n",
      "g->/\n"
     ]
    }
   ],
   "source": [
    "for i in 'Thanapong':\n",
    "    print(f'{i}->/')"
   ]
  },
  {
   "cell_type": "code",
   "execution_count": 61,
   "metadata": {},
   "outputs": [
    {
     "name": "stdout",
     "output_type": "stream",
     "text": [
      "T -> / \n",
      "  \n",
      "h -> / \n",
      "  \n",
      "a -> / \n",
      "  \n",
      "n -> / \n",
      "  \n",
      "a -> / \n",
      "  \n",
      "p -> / \n",
      "  \n",
      "o -> / \n",
      "  \n",
      "n -> / \n",
      "  \n",
      "g -> / \n",
      "  \n"
     ]
    }
   ],
   "source": [
    "for i in 'Thanapong':\n",
    "    print(f'{i} -> / ' )\n",
    "    print('  ')"
   ]
  },
  {
   "cell_type": "markdown",
   "metadata": {},
   "source": [
    "### 1. สร้าง list  ชื่อเพื่อนที่อยู่ในแถวยาวเดียวกัน\n",
    "### 1.5 สร้าง function print ประโยคว่า XXXเรา YYYความรู้สึก ZZZเพื่อนทุกคนในแถว \n",
    "### 2. วนลูบ เรียก function โดยเปลี่ยนชื่อเพื่อนไปเรื่อยๆ"
   ]
  },
  {
   "cell_type": "code",
   "execution_count": 173,
   "metadata": {},
   "outputs": [
    {
     "data": {
      "text/plain": [
       "['พี่บูม', 'ดายน์', 'แตงโม', 'ฝน', 'พี่เจ็ท', 'น้องแคมป์']"
      ]
     },
     "execution_count": 173,
     "metadata": {},
     "output_type": "execute_result"
    }
   ],
   "source": [
    "friend_list= ['พี่บูม','ดายน์','แตงโม','ฝน','พี่เจ็ท','น้องแคมป์']\n",
    "friend_list"
   ]
  },
  {
   "cell_type": "code",
   "execution_count": 177,
   "metadata": {},
   "outputs": [],
   "source": [
    "def print_feeling (i,feeling,friends):\n",
    "    print(f' {i} {feeling} {friends}')"
   ]
  },
  {
   "cell_type": "code",
   "execution_count": 178,
   "metadata": {
    "scrolled": true
   },
   "outputs": [
    {
     "name": "stdout",
     "output_type": "stream",
     "text": [
      " เจมส์ รัก พี่บูม\n",
      " เจมส์ รัก ดายน์\n",
      " เจมส์ รัก แตงโม\n",
      " เจมส์ รัก ฝน\n",
      " เจมส์ รัก พี่เจ็ท\n",
      " เจมส์ รัก น้องแคมป์\n"
     ]
    }
   ],
   "source": [
    "for f in friend_list :\n",
    "    print_feeling('เจมส์','รัก',f)"
   ]
  },
  {
   "cell_type": "markdown",
   "metadata": {},
   "source": [
    "### loop in loop"
   ]
  },
  {
   "cell_type": "code",
   "execution_count": 181,
   "metadata": {},
   "outputs": [
    {
     "name": "stdout",
     "output_type": "stream",
     "text": [
      " พี่บูม รัก พี่บูม\n",
      " พี่บูม รัก ดายน์\n",
      " พี่บูม รัก แตงโม\n",
      " พี่บูม รัก ฝน\n",
      " พี่บูม รัก พี่เจ็ท\n",
      " พี่บูม รัก น้องแคมป์\n",
      " ดายน์ รัก พี่บูม\n",
      " ดายน์ รัก ดายน์\n",
      " ดายน์ รัก แตงโม\n",
      " ดายน์ รัก ฝน\n",
      " ดายน์ รัก พี่เจ็ท\n",
      " ดายน์ รัก น้องแคมป์\n",
      " แตงโม รัก พี่บูม\n",
      " แตงโม รัก ดายน์\n",
      " แตงโม รัก แตงโม\n",
      " แตงโม รัก ฝน\n",
      " แตงโม รัก พี่เจ็ท\n",
      " แตงโม รัก น้องแคมป์\n",
      " ฝน รัก พี่บูม\n",
      " ฝน รัก ดายน์\n",
      " ฝน รัก แตงโม\n",
      " ฝน รัก ฝน\n",
      " ฝน รัก พี่เจ็ท\n",
      " ฝน รัก น้องแคมป์\n",
      " พี่เจ็ท รัก พี่บูม\n",
      " พี่เจ็ท รัก ดายน์\n",
      " พี่เจ็ท รัก แตงโม\n",
      " พี่เจ็ท รัก ฝน\n",
      " พี่เจ็ท รัก พี่เจ็ท\n",
      " พี่เจ็ท รัก น้องแคมป์\n",
      " น้องแคมป์ รัก พี่บูม\n",
      " น้องแคมป์ รัก ดายน์\n",
      " น้องแคมป์ รัก แตงโม\n",
      " น้องแคมป์ รัก ฝน\n",
      " น้องแคมป์ รัก พี่เจ็ท\n",
      " น้องแคมป์ รัก น้องแคมป์\n"
     ]
    }
   ],
   "source": [
    "for name1 in friend_list :\n",
    "    for name2 in friend_list :\n",
    "        print_feeling(name1,'รัก',name2)"
   ]
  },
  {
   "cell_type": "markdown",
   "metadata": {},
   "source": [
    "### loop in function"
   ]
  },
  {
   "cell_type": "code",
   "execution_count": 125,
   "metadata": {},
   "outputs": [],
   "source": [
    "def print_feelings(I,feeling,friends):\n",
    "    for friend  in friends :\n",
    "        print(f'{I} {feeling} {friend}')"
   ]
  },
  {
   "cell_type": "code",
   "execution_count": 126,
   "metadata": {},
   "outputs": [
    {
     "name": "stdout",
     "output_type": "stream",
     "text": [
      "เจมส์ รัก พี่บูม\n",
      "เจมส์ รัก ดายน์\n",
      "เจมส์ รัก แตงโม\n",
      "เจมส์ รัก ฝน\n",
      "เจมส์ รัก พี่เจ็ท\n",
      "เจมส์ รัก น้องแคมป์\n"
     ]
    }
   ],
   "source": [
    "print_feelings('เจมส์','รัก',list_friends)"
   ]
  },
  {
   "cell_type": "markdown",
   "metadata": {},
   "source": [
    "### looping in dict"
   ]
  },
  {
   "cell_type": "code",
   "execution_count": 127,
   "metadata": {},
   "outputs": [
    {
     "data": {
      "text/plain": [
       "{'พันทิพา': 'B', 'ศุภนิตา': 'C', 'ปนัดดา': 'A', 'ทรงกลด': 'F'}"
      ]
     },
     "execution_count": 127,
     "metadata": {},
     "output_type": "execute_result"
    }
   ],
   "source": [
    "name_grade = {'พันทิพา' : 'B','ศุภนิตา' : 'C','ปนัดดา' : 'A','ทรงกลด' : 'F'}\n",
    "name_grade "
   ]
  },
  {
   "cell_type": "code",
   "execution_count": 128,
   "metadata": {},
   "outputs": [
    {
     "data": {
      "text/plain": [
       "'A'"
      ]
     },
     "execution_count": 128,
     "metadata": {},
     "output_type": "execute_result"
    }
   ],
   "source": [
    "name_grade['ปนัดดา']"
   ]
  },
  {
   "cell_type": "code",
   "execution_count": 130,
   "metadata": {
    "scrolled": true
   },
   "outputs": [
    {
     "name": "stdout",
     "output_type": "stream",
     "text": [
      "พันทิพา\n",
      "ศุภนิตา\n",
      "ปนัดดา\n",
      "ทรงกลด\n"
     ]
    }
   ],
   "source": [
    "for i in name_grade.keys():\n",
    "    print(i)"
   ]
  },
  {
   "cell_type": "code",
   "execution_count": 132,
   "metadata": {},
   "outputs": [
    {
     "data": {
      "text/plain": [
       "dict_keys(['พันทิพา', 'ศุภนิตา', 'ปนัดดา', 'ทรงกลด'])"
      ]
     },
     "execution_count": 132,
     "metadata": {},
     "output_type": "execute_result"
    }
   ],
   "source": [
    "name_grade.keys()"
   ]
  },
  {
   "cell_type": "code",
   "execution_count": 138,
   "metadata": {},
   "outputs": [
    {
     "name": "stdout",
     "output_type": "stream",
     "text": [
      "พันทิพา ได้เกรด B\n",
      "ศุภนิตา ได้เกรด C\n",
      "ปนัดดา ได้เกรด A\n",
      "ทรงกลด ได้เกรด F\n"
     ]
    }
   ],
   "source": [
    "for i in name_grade.keys():\n",
    "    print(f'{i} ได้เกรด {name_grade[i]}')"
   ]
  },
  {
   "cell_type": "markdown",
   "metadata": {},
   "source": [
    "### conditional คือ เงื่อนไข /ประโยคเงื่อนไข"
   ]
  },
  {
   "cell_type": "markdown",
   "metadata": {},
   "source": [
    "#### ==, !=,>=,<=,<,>"
   ]
  },
  {
   "cell_type": "markdown",
   "metadata": {},
   "source": [
    "##### True / False"
   ]
  },
  {
   "cell_type": "markdown",
   "metadata": {},
   "source": [
    "```Python\n",
    "if condition1 :\n",
    "    do something\n",
    "elif condition2 :\n",
    "    do another thing\n",
    "else:\n",
    "    do ...\n",
    "```\n",
    "    "
   ]
  },
  {
   "cell_type": "code",
   "execution_count": 182,
   "metadata": {},
   "outputs": [
    {
     "name": "stdout",
     "output_type": "stream",
     "text": [
      " พี่บูม รัก ดายน์\n",
      " พี่บูม รัก แตงโม\n",
      " พี่บูม รัก ฝน\n",
      " พี่บูม รัก พี่เจ็ท\n",
      " พี่บูม รัก น้องแคมป์\n",
      " ดายน์ รัก พี่บูม\n",
      " ดายน์ รัก แตงโม\n",
      " ดายน์ รัก ฝน\n",
      " ดายน์ รัก พี่เจ็ท\n",
      " ดายน์ รัก น้องแคมป์\n",
      " แตงโม รัก พี่บูม\n",
      " แตงโม รัก ดายน์\n",
      " แตงโม รัก ฝน\n",
      " แตงโม รัก พี่เจ็ท\n",
      " แตงโม รัก น้องแคมป์\n",
      " ฝน รัก พี่บูม\n",
      " ฝน รัก ดายน์\n",
      " ฝน รัก แตงโม\n",
      " ฝน รัก พี่เจ็ท\n",
      " ฝน รัก น้องแคมป์\n",
      " พี่เจ็ท รัก พี่บูม\n",
      " พี่เจ็ท รัก ดายน์\n",
      " พี่เจ็ท รัก แตงโม\n",
      " พี่เจ็ท รัก ฝน\n",
      " พี่เจ็ท รัก น้องแคมป์\n",
      " น้องแคมป์ รัก พี่บูม\n",
      " น้องแคมป์ รัก ดายน์\n",
      " น้องแคมป์ รัก แตงโม\n",
      " น้องแคมป์ รัก ฝน\n",
      " น้องแคมป์ รัก พี่เจ็ท\n"
     ]
    }
   ],
   "source": [
    "for name1 in friend_list :\n",
    "    for name2 in friend_list :\n",
    "        if name1 != name2:\n",
    "            print_feeling(name1,'รัก',name2)"
   ]
  },
  {
   "cell_type": "code",
   "execution_count": 186,
   "metadata": {},
   "outputs": [
    {
     "name": "stdout",
     "output_type": "stream",
     "text": [
      "Yes\n"
     ]
    }
   ],
   "source": [
    "if True:\n",
    "    print('Yes')"
   ]
  },
  {
   "cell_type": "code",
   "execution_count": 185,
   "metadata": {},
   "outputs": [],
   "source": [
    "if False:\n",
    "    print('No')"
   ]
  },
  {
   "cell_type": "code",
   "execution_count": 187,
   "metadata": {},
   "outputs": [
    {
     "name": "stdout",
     "output_type": "stream",
     "text": [
      "No\n"
     ]
    }
   ],
   "source": [
    "if False:\n",
    "    print('Yes')\n",
    "else:\n",
    "    print('No')"
   ]
  },
  {
   "cell_type": "code",
   "execution_count": 188,
   "metadata": {},
   "outputs": [
    {
     "data": {
      "text/plain": [
       "True"
      ]
     },
     "execution_count": 188,
     "metadata": {},
     "output_type": "execute_result"
    }
   ],
   "source": [
    "1 == 1"
   ]
  },
  {
   "cell_type": "code",
   "execution_count": 190,
   "metadata": {},
   "outputs": [
    {
     "name": "stdout",
     "output_type": "stream",
     "text": [
      "1=1\n"
     ]
    }
   ],
   "source": [
    "if 1 == 1:\n",
    "    print('1=1')"
   ]
  },
  {
   "cell_type": "markdown",
   "metadata": {},
   "source": [
    "# HW\n",
    "#### เขียน function ตัดเกรด โดยที่ input เป็นคะแนน(0-100) , output เป็นเกรด (F-A)\n",
    "#### input = [1,50,65,90,101,-5,49]"
   ]
  },
  {
   "cell_type": "code",
   "execution_count": null,
   "metadata": {},
   "outputs": [],
   "source": [
    "def Grade (score) :\n",
    "    if 0 < score < 50 :\n",
    "        print (f'{score} Grade is F')\n",
    "    elif 50 <=score<55:\n",
    "        print (f'{score} Grade is D')\n",
    "    elif 55 <=score<60:\n",
    "        print (f'{score} Grade is D+')\n",
    "    elif 60 <=score<65:\n",
    "        print (f'{score} Grade is C')\n",
    "    elif 65 <=score<70:\n",
    "        print (f'{score} Grade is C+')\n",
    "    elif 70 <=score<75:\n",
    "        print (f'{score} Grade is B')\n",
    "    elif 75 <=score<80:\n",
    "        print (f'{score} Grade is B+')\n",
    "    elif 100 <score:\n",
    "        print (f'{score} score is error')\n",
    "    elif 0 >score:\n",
    "        print (f'{score} score is error')    \n",
    "    else:\n",
    "        print (f'{score} Grade is A')"
   ]
  }
 ],
 "metadata": {
  "kernelspec": {
   "display_name": "Python 3",
   "language": "python",
   "name": "python3"
  },
  "language_info": {
   "codemirror_mode": {
    "name": "ipython",
    "version": 3
   },
   "file_extension": ".py",
   "mimetype": "text/x-python",
   "name": "python",
   "nbconvert_exporter": "python",
   "pygments_lexer": "ipython3",
   "version": "3.7.4"
  }
 },
 "nbformat": 4,
 "nbformat_minor": 2
}
