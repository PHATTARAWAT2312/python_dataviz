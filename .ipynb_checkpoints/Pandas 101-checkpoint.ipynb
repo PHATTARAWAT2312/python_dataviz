{
 "cells": [
  {
   "cell_type": "markdown",
   "metadata": {},
   "source": [
    "# วันศุกร์ ที่ 17 มกราคม 2563\n",
    "#### นายภัทรวรรธน์ ใจเที่ยง รหัสนักศึกษา 603021866-7"
   ]
  },
  {
   "cell_type": "markdown",
   "metadata": {},
   "source": [
    "#### ใช้ pandas เพื่ออ่านไฟล์ .csv เริ่มต้นจากการ import pandas โดย as pd คือเราต้องการย่อ pandas ให้เป็น pd จะได้ดังนี้"
   ]
  },
  {
   "cell_type": "code",
   "execution_count": 2,
   "metadata": {},
   "outputs": [],
   "source": [
    "import pandas as pd"
   ]
  },
  {
   "cell_type": "markdown",
   "metadata": {},
   "source": []
  }
 ],
 "metadata": {
  "kernelspec": {
   "display_name": "Python 3",
   "language": "python",
   "name": "python3"
  },
  "language_info": {
   "codemirror_mode": {
    "name": "ipython",
    "version": 3
   },
   "file_extension": ".py",
   "mimetype": "text/x-python",
   "name": "python",
   "nbconvert_exporter": "python",
   "pygments_lexer": "ipython3",
   "version": "3.7.4"
  }
 },
 "nbformat": 4,
 "nbformat_minor": 2
}
